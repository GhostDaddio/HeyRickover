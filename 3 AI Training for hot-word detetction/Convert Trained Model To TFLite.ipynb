{
 "cells": [
  {
   "cell_type": "markdown",
   "source": [
    "# Converting a trained model to tflite\n",
    "https://www.tensorflow.org/lite/microcontrollers/build_convert#model_conversion"
   ],
   "metadata": {}
  },
  {
   "cell_type": "markdown",
   "source": [
    "# Convert model to tflite"
   ],
   "metadata": {}
  },
  {
   "cell_type": "code",
   "execution_count": 1,
   "source": [
    "import tensorflow as tf\r\n",
    "import numpy as np"
   ],
   "outputs": [],
   "metadata": {}
  },
  {
   "cell_type": "code",
   "execution_count": 2,
   "source": [
    "training_spectrogram = np.load('training_spectrogram.npz')\r\n",
    "validation_spectrogram = np.load('validation_spectrogram.npz')\r\n",
    "test_spectrogram = np.load('test_spectrogram.npz')\r\n",
    "\r\n",
    "X_train = training_spectrogram['X']\r\n",
    "X_validate = validation_spectrogram['X']\r\n",
    "X_test = test_spectrogram['X']\r\n",
    "\r\n",
    "complete_train_X = np.concatenate((X_train, X_validate, X_test))"
   ],
   "outputs": [],
   "metadata": {}
  },
  {
   "cell_type": "code",
   "execution_count": 3,
   "source": [
    "#converter2 = tf.lite.TFLiteConverter.from_saved_model(\"fully_trained.model\")\r\n",
    "converter2 = tf.lite.TFLiteConverter.from_saved_model(\"trained.model\")\r\n",
    "converter2.optimizations = [tf.lite.Optimize.DEFAULT]\r\n",
    "def representative_dataset_gen():\r\n",
    "    for i in range(0, len(complete_train_X), 100):\r\n",
    "        # Get sample input data as a numpy array in a method of your choosing.\r\n",
    "        yield [complete_train_X[i:i+100]]\r\n",
    "converter2.representative_dataset = representative_dataset_gen\r\n",
    "# converter.optimizations = [tf.lite.Optimize.OPTIMIZE_FOR_SIZE]\r\n",
    "converter2.target_spec.supported_ops = [tf.lite.OpsSet.TFLITE_BUILTINS_INT8]\r\n",
    "tflite_quant_model = converter2.convert()\r\n",
    "open(\"converted_model.tflite\", \"wb\").write(tflite_quant_model)"
   ],
   "outputs": [
    {
     "output_type": "execute_result",
     "data": {
      "text/plain": [
       "42960"
      ]
     },
     "metadata": {},
     "execution_count": 3
    }
   ],
   "metadata": {}
  },
  {
   "cell_type": "markdown",
   "source": [
    "# To convert to C++\n",
    "This will run a command line too to convert out tflite model into C code."
   ],
   "metadata": {}
  },
  {
   "cell_type": "code",
   "execution_count": 4,
   "source": [
    "# DO THIS IN UBUNTU FOR WINDOWS:  cd /mnt/e/AI-fishyDIYProjects/diy-alexa-master/model\r\n",
    "# then run this command:  \"xxd -i converted_model.tflite > model_data.cc\"\r\n",
    "# Then dopy the output of this workbook (model_data.cc) into firmware/lib/nerual_network/src/model.cc\r\n",
    "#!xxd -i converted_model.tflite > model_data.cc"
   ],
   "outputs": [
    {
     "output_type": "stream",
     "name": "stderr",
     "text": [
      "'xxd' is not recognized as an internal or external command,\n",
      "operable program or batch file.\n"
     ]
    }
   ],
   "metadata": {}
  },
  {
   "cell_type": "code",
   "execution_count": null,
   "source": [],
   "outputs": [],
   "metadata": {}
  }
 ],
 "metadata": {
  "kernelspec": {
   "name": "python3",
   "display_name": "Python 3.9.2 64-bit ('venv': venv)"
  },
  "language_info": {
   "codemirror_mode": {
    "name": "ipython",
    "version": 3
   },
   "file_extension": ".py",
   "mimetype": "text/x-python",
   "name": "python",
   "nbconvert_exporter": "python",
   "pygments_lexer": "ipython3",
   "version": "3.9.2"
  },
  "interpreter": {
   "hash": "74c5e560cf89b85f5eb190e996c385133f063cb1401b44b66885dae500082a29"
  }
 },
 "nbformat": 4,
 "nbformat_minor": 4
}